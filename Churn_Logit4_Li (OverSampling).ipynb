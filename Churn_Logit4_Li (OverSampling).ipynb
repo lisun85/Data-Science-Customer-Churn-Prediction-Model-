{
 "cells": [
  {
   "cell_type": "code",
   "execution_count": 89,
   "id": "221cb559",
   "metadata": {},
   "outputs": [],
   "source": [
    "import numpy as np\n",
    "import pandas as pd\n",
    "import matplotlib.pyplot as plt\n",
    "%matplotlib inline\n",
    "\n",
    "from sklearn.model_selection import train_test_split\n",
    "from sklearn.metrics import confusion_matrix, recall_score, precision_score\n",
    "from sklearn.metrics import classification_report\n",
    "from sklearn.metrics import plot_confusion_matrix"
   ]
  },
  {
   "cell_type": "code",
   "execution_count": 2,
   "id": "3147c648",
   "metadata": {},
   "outputs": [],
   "source": [
    "df = pd.read_csv('DataSet_1_Dirty_2.11.2022 v5 (numerics grouped).csv')"
   ]
  },
  {
   "cell_type": "code",
   "execution_count": 3,
   "id": "847498db",
   "metadata": {},
   "outputs": [],
   "source": [
    "df.rename(columns={\"Month of January\": \"y_actual\"}, inplace=True)"
   ]
  },
  {
   "cell_type": "code",
   "execution_count": 4,
   "id": "e98db6af",
   "metadata": {},
   "outputs": [],
   "source": [
    "df[\"y_actual\"] = ~df[\"y_actual\"].astype(bool)"
   ]
  },
  {
   "cell_type": "code",
   "execution_count": 99,
   "id": "319ec80a",
   "metadata": {},
   "outputs": [
    {
     "name": "stderr",
     "output_type": "stream",
     "text": [
      "/var/folders/9j/sb9k3k3n66dgyqgmnmvbft8w0000gn/T/ipykernel_67575/623480030.py:1: FutureWarning: In a future version of pandas all arguments of DataFrame.drop except for the argument 'labels' will be keyword-only\n",
      "  df = df.drop(\"email_address\", 1)\n"
     ]
    },
    {
     "data": {
      "text/html": [
       "<div>\n",
       "<style scoped>\n",
       "    .dataframe tbody tr th:only-of-type {\n",
       "        vertical-align: middle;\n",
       "    }\n",
       "\n",
       "    .dataframe tbody tr th {\n",
       "        vertical-align: top;\n",
       "    }\n",
       "\n",
       "    .dataframe thead th {\n",
       "        text-align: right;\n",
       "    }\n",
       "</style>\n",
       "<table border=\"1\" class=\"dataframe\">\n",
       "  <thead>\n",
       "    <tr style=\"text-align: right;\">\n",
       "      <th></th>\n",
       "      <th>sex</th>\n",
       "      <th>country</th>\n",
       "      <th>region</th>\n",
       "      <th>city</th>\n",
       "      <th>contact_number</th>\n",
       "      <th>income_source</th>\n",
       "      <th>Age</th>\n",
       "      <th>Days_being_customer</th>\n",
       "      <th>Ratio_2w_to_week</th>\n",
       "      <th>Net Deposit Dec 2021</th>\n",
       "      <th>y_actual</th>\n",
       "    </tr>\n",
       "  </thead>\n",
       "  <tbody>\n",
       "    <tr>\n",
       "      <th>0</th>\n",
       "      <td>Male</td>\n",
       "      <td>PH</td>\n",
       "      <td>Metro Manila</td>\n",
       "      <td>Parañaque</td>\n",
       "      <td>6.390000e+11</td>\n",
       "      <td>Practice of Profession</td>\n",
       "      <td>36</td>\n",
       "      <td>401</td>\n",
       "      <td>0.000000</td>\n",
       "      <td>0.0</td>\n",
       "      <td>True</td>\n",
       "    </tr>\n",
       "    <tr>\n",
       "      <th>1</th>\n",
       "      <td>Male</td>\n",
       "      <td>AE</td>\n",
       "      <td>al karama</td>\n",
       "      <td>Dubai</td>\n",
       "      <td>9.710000e+12</td>\n",
       "      <td>salary</td>\n",
       "      <td>30</td>\n",
       "      <td>401</td>\n",
       "      <td>0.000000</td>\n",
       "      <td>0.0</td>\n",
       "      <td>True</td>\n",
       "    </tr>\n",
       "    <tr>\n",
       "      <th>2</th>\n",
       "      <td>male</td>\n",
       "      <td>PH</td>\n",
       "      <td>Nueva Vizcaya</td>\n",
       "      <td>Solano</td>\n",
       "      <td>9.395438e+09</td>\n",
       "      <td>others Allowance</td>\n",
       "      <td>23</td>\n",
       "      <td>395</td>\n",
       "      <td>0.153846</td>\n",
       "      <td>-26375.0</td>\n",
       "      <td>False</td>\n",
       "    </tr>\n",
       "    <tr>\n",
       "      <th>3</th>\n",
       "      <td>female</td>\n",
       "      <td>PH</td>\n",
       "      <td>Cebu</td>\n",
       "      <td>Cebu</td>\n",
       "      <td>9.209720e+09</td>\n",
       "      <td>others Salary</td>\n",
       "      <td>34</td>\n",
       "      <td>343</td>\n",
       "      <td>0.000000</td>\n",
       "      <td>0.0</td>\n",
       "      <td>True</td>\n",
       "    </tr>\n",
       "    <tr>\n",
       "      <th>4</th>\n",
       "      <td>Male</td>\n",
       "      <td>PH</td>\n",
       "      <td>camarines norte</td>\n",
       "      <td>daet</td>\n",
       "      <td>6.400000e+11</td>\n",
       "      <td>buy and sell used gadgets</td>\n",
       "      <td>39</td>\n",
       "      <td>177</td>\n",
       "      <td>0.000000</td>\n",
       "      <td>0.0</td>\n",
       "      <td>True</td>\n",
       "    </tr>\n",
       "    <tr>\n",
       "      <th>...</th>\n",
       "      <td>...</td>\n",
       "      <td>...</td>\n",
       "      <td>...</td>\n",
       "      <td>...</td>\n",
       "      <td>...</td>\n",
       "      <td>...</td>\n",
       "      <td>...</td>\n",
       "      <td>...</td>\n",
       "      <td>...</td>\n",
       "      <td>...</td>\n",
       "      <td>...</td>\n",
       "    </tr>\n",
       "    <tr>\n",
       "      <th>25892</th>\n",
       "      <td>Female</td>\n",
       "      <td>PH</td>\n",
       "      <td>Pampanga</td>\n",
       "      <td>San Fernando</td>\n",
       "      <td>6.400000e+11</td>\n",
       "      <td>Allowance</td>\n",
       "      <td>21</td>\n",
       "      <td>90</td>\n",
       "      <td>0.000000</td>\n",
       "      <td>0.0</td>\n",
       "      <td>True</td>\n",
       "    </tr>\n",
       "    <tr>\n",
       "      <th>25893</th>\n",
       "      <td>Female</td>\n",
       "      <td>PH</td>\n",
       "      <td>Nueva Ecija</td>\n",
       "      <td>Llanera</td>\n",
       "      <td>6.400000e+11</td>\n",
       "      <td>Remittance</td>\n",
       "      <td>31</td>\n",
       "      <td>182</td>\n",
       "      <td>0.000000</td>\n",
       "      <td>0.0</td>\n",
       "      <td>True</td>\n",
       "    </tr>\n",
       "    <tr>\n",
       "      <th>25894</th>\n",
       "      <td>Male</td>\n",
       "      <td>QA</td>\n",
       "      <td>Doha</td>\n",
       "      <td>Doha</td>\n",
       "      <td>6.390000e+11</td>\n",
       "      <td>Compensation</td>\n",
       "      <td>43</td>\n",
       "      <td>252</td>\n",
       "      <td>0.000000</td>\n",
       "      <td>0.0</td>\n",
       "      <td>True</td>\n",
       "    </tr>\n",
       "    <tr>\n",
       "      <th>25895</th>\n",
       "      <td>Male</td>\n",
       "      <td>PH</td>\n",
       "      <td>muntinlupa</td>\n",
       "      <td>muntinlupa</td>\n",
       "      <td>6.390000e+11</td>\n",
       "      <td>Business</td>\n",
       "      <td>27</td>\n",
       "      <td>98</td>\n",
       "      <td>0.000000</td>\n",
       "      <td>0.0</td>\n",
       "      <td>True</td>\n",
       "    </tr>\n",
       "    <tr>\n",
       "      <th>25896</th>\n",
       "      <td>Female</td>\n",
       "      <td>PH</td>\n",
       "      <td>NCR</td>\n",
       "      <td>Makati</td>\n",
       "      <td>6.390000e+11</td>\n",
       "      <td>Compensation</td>\n",
       "      <td>38</td>\n",
       "      <td>177</td>\n",
       "      <td>0.000000</td>\n",
       "      <td>0.0</td>\n",
       "      <td>True</td>\n",
       "    </tr>\n",
       "  </tbody>\n",
       "</table>\n",
       "<p>25897 rows × 11 columns</p>\n",
       "</div>"
      ],
      "text/plain": [
       "          sex country           region          city  contact_number  \\\n",
       "0        Male      PH     Metro Manila    Parañaque     6.390000e+11   \n",
       "1        Male      AE        al karama         Dubai    9.710000e+12   \n",
       "2        male      PH    Nueva Vizcaya        Solano    9.395438e+09   \n",
       "3      female      PH             Cebu          Cebu    9.209720e+09   \n",
       "4        Male      PH  camarines norte          daet    6.400000e+11   \n",
       "...       ...     ...              ...           ...             ...   \n",
       "25892  Female      PH         Pampanga  San Fernando    6.400000e+11   \n",
       "25893  Female      PH      Nueva Ecija       Llanera    6.400000e+11   \n",
       "25894    Male      QA             Doha          Doha    6.390000e+11   \n",
       "25895    Male      PH       muntinlupa    muntinlupa    6.390000e+11   \n",
       "25896  Female      PH              NCR        Makati    6.390000e+11   \n",
       "\n",
       "                   income_source  Age  Days_being_customer  Ratio_2w_to_week  \\\n",
       "0         Practice of Profession   36                  401          0.000000   \n",
       "1                         salary   30                  401          0.000000   \n",
       "2               others Allowance   23                  395          0.153846   \n",
       "3                  others Salary   34                  343          0.000000   \n",
       "4      buy and sell used gadgets   39                  177          0.000000   \n",
       "...                          ...  ...                  ...               ...   \n",
       "25892                 Allowance    21                   90          0.000000   \n",
       "25893                 Remittance   31                  182          0.000000   \n",
       "25894               Compensation   43                  252          0.000000   \n",
       "25895                   Business   27                   98          0.000000   \n",
       "25896               Compensation   38                  177          0.000000   \n",
       "\n",
       "       Net Deposit Dec 2021  y_actual  \n",
       "0                       0.0      True  \n",
       "1                       0.0      True  \n",
       "2                  -26375.0     False  \n",
       "3                       0.0      True  \n",
       "4                       0.0      True  \n",
       "...                     ...       ...  \n",
       "25892                   0.0      True  \n",
       "25893                   0.0      True  \n",
       "25894                   0.0      True  \n",
       "25895                   0.0      True  \n",
       "25896                   0.0      True  \n",
       "\n",
       "[25897 rows x 11 columns]"
      ]
     },
     "execution_count": 99,
     "metadata": {},
     "output_type": "execute_result"
    }
   ],
   "source": [
    "df = df.drop(\"email_address\", 1)\n",
    "df"
   ]
  },
  {
   "cell_type": "code",
   "execution_count": 6,
   "id": "718a7135",
   "metadata": {},
   "outputs": [
    {
     "data": {
      "text/plain": [
       "(25897, 12)"
      ]
     },
     "execution_count": 6,
     "metadata": {},
     "output_type": "execute_result"
    }
   ],
   "source": [
    "df.shape"
   ]
  },
  {
   "cell_type": "code",
   "execution_count": 7,
   "id": "f6793dc7",
   "metadata": {},
   "outputs": [
    {
     "data": {
      "text/html": [
       "<div>\n",
       "<style scoped>\n",
       "    .dataframe tbody tr th:only-of-type {\n",
       "        vertical-align: middle;\n",
       "    }\n",
       "\n",
       "    .dataframe tbody tr th {\n",
       "        vertical-align: top;\n",
       "    }\n",
       "\n",
       "    .dataframe thead th {\n",
       "        text-align: right;\n",
       "    }\n",
       "</style>\n",
       "<table border=\"1\" class=\"dataframe\">\n",
       "  <thead>\n",
       "    <tr style=\"text-align: right;\">\n",
       "      <th></th>\n",
       "      <th>sex</th>\n",
       "      <th>country</th>\n",
       "      <th>region</th>\n",
       "      <th>city</th>\n",
       "      <th>contact_number</th>\n",
       "      <th>income_source</th>\n",
       "      <th>Age</th>\n",
       "      <th>Days_being_customer</th>\n",
       "      <th>Ratio_2w_to_week</th>\n",
       "      <th>Net Deposit Dec 2021</th>\n",
       "      <th>y_actual</th>\n",
       "    </tr>\n",
       "  </thead>\n",
       "  <tbody>\n",
       "    <tr>\n",
       "      <th>0</th>\n",
       "      <td>Male</td>\n",
       "      <td>PH</td>\n",
       "      <td>Metro Manila</td>\n",
       "      <td>Parañaque</td>\n",
       "      <td>6.390000e+11</td>\n",
       "      <td>Practice of Profession</td>\n",
       "      <td>36</td>\n",
       "      <td>401</td>\n",
       "      <td>0.000000</td>\n",
       "      <td>0.0</td>\n",
       "      <td>True</td>\n",
       "    </tr>\n",
       "    <tr>\n",
       "      <th>1</th>\n",
       "      <td>Male</td>\n",
       "      <td>AE</td>\n",
       "      <td>al karama</td>\n",
       "      <td>Dubai</td>\n",
       "      <td>9.710000e+12</td>\n",
       "      <td>salary</td>\n",
       "      <td>30</td>\n",
       "      <td>401</td>\n",
       "      <td>0.000000</td>\n",
       "      <td>0.0</td>\n",
       "      <td>True</td>\n",
       "    </tr>\n",
       "    <tr>\n",
       "      <th>2</th>\n",
       "      <td>male</td>\n",
       "      <td>PH</td>\n",
       "      <td>Nueva Vizcaya</td>\n",
       "      <td>Solano</td>\n",
       "      <td>9.395438e+09</td>\n",
       "      <td>others Allowance</td>\n",
       "      <td>23</td>\n",
       "      <td>395</td>\n",
       "      <td>0.153846</td>\n",
       "      <td>-26375.0</td>\n",
       "      <td>False</td>\n",
       "    </tr>\n",
       "    <tr>\n",
       "      <th>3</th>\n",
       "      <td>female</td>\n",
       "      <td>PH</td>\n",
       "      <td>Cebu</td>\n",
       "      <td>Cebu</td>\n",
       "      <td>9.209720e+09</td>\n",
       "      <td>others Salary</td>\n",
       "      <td>34</td>\n",
       "      <td>343</td>\n",
       "      <td>0.000000</td>\n",
       "      <td>0.0</td>\n",
       "      <td>True</td>\n",
       "    </tr>\n",
       "    <tr>\n",
       "      <th>4</th>\n",
       "      <td>Male</td>\n",
       "      <td>PH</td>\n",
       "      <td>camarines norte</td>\n",
       "      <td>daet</td>\n",
       "      <td>6.400000e+11</td>\n",
       "      <td>buy and sell used gadgets</td>\n",
       "      <td>39</td>\n",
       "      <td>177</td>\n",
       "      <td>0.000000</td>\n",
       "      <td>0.0</td>\n",
       "      <td>True</td>\n",
       "    </tr>\n",
       "    <tr>\n",
       "      <th>...</th>\n",
       "      <td>...</td>\n",
       "      <td>...</td>\n",
       "      <td>...</td>\n",
       "      <td>...</td>\n",
       "      <td>...</td>\n",
       "      <td>...</td>\n",
       "      <td>...</td>\n",
       "      <td>...</td>\n",
       "      <td>...</td>\n",
       "      <td>...</td>\n",
       "      <td>...</td>\n",
       "    </tr>\n",
       "    <tr>\n",
       "      <th>25892</th>\n",
       "      <td>Female</td>\n",
       "      <td>PH</td>\n",
       "      <td>Pampanga</td>\n",
       "      <td>San Fernando</td>\n",
       "      <td>6.400000e+11</td>\n",
       "      <td>Allowance</td>\n",
       "      <td>21</td>\n",
       "      <td>90</td>\n",
       "      <td>0.000000</td>\n",
       "      <td>0.0</td>\n",
       "      <td>True</td>\n",
       "    </tr>\n",
       "    <tr>\n",
       "      <th>25893</th>\n",
       "      <td>Female</td>\n",
       "      <td>PH</td>\n",
       "      <td>Nueva Ecija</td>\n",
       "      <td>Llanera</td>\n",
       "      <td>6.400000e+11</td>\n",
       "      <td>Remittance</td>\n",
       "      <td>31</td>\n",
       "      <td>182</td>\n",
       "      <td>0.000000</td>\n",
       "      <td>0.0</td>\n",
       "      <td>True</td>\n",
       "    </tr>\n",
       "    <tr>\n",
       "      <th>25894</th>\n",
       "      <td>Male</td>\n",
       "      <td>QA</td>\n",
       "      <td>Doha</td>\n",
       "      <td>Doha</td>\n",
       "      <td>6.390000e+11</td>\n",
       "      <td>Compensation</td>\n",
       "      <td>43</td>\n",
       "      <td>252</td>\n",
       "      <td>0.000000</td>\n",
       "      <td>0.0</td>\n",
       "      <td>True</td>\n",
       "    </tr>\n",
       "    <tr>\n",
       "      <th>25895</th>\n",
       "      <td>Male</td>\n",
       "      <td>PH</td>\n",
       "      <td>muntinlupa</td>\n",
       "      <td>muntinlupa</td>\n",
       "      <td>6.390000e+11</td>\n",
       "      <td>Business</td>\n",
       "      <td>27</td>\n",
       "      <td>98</td>\n",
       "      <td>0.000000</td>\n",
       "      <td>0.0</td>\n",
       "      <td>True</td>\n",
       "    </tr>\n",
       "    <tr>\n",
       "      <th>25896</th>\n",
       "      <td>Female</td>\n",
       "      <td>PH</td>\n",
       "      <td>NCR</td>\n",
       "      <td>Makati</td>\n",
       "      <td>6.390000e+11</td>\n",
       "      <td>Compensation</td>\n",
       "      <td>38</td>\n",
       "      <td>177</td>\n",
       "      <td>0.000000</td>\n",
       "      <td>0.0</td>\n",
       "      <td>True</td>\n",
       "    </tr>\n",
       "  </tbody>\n",
       "</table>\n",
       "<p>25897 rows × 11 columns</p>\n",
       "</div>"
      ],
      "text/plain": [
       "          sex country           region          city  contact_number  \\\n",
       "0        Male      PH     Metro Manila    Parañaque     6.390000e+11   \n",
       "1        Male      AE        al karama         Dubai    9.710000e+12   \n",
       "2        male      PH    Nueva Vizcaya        Solano    9.395438e+09   \n",
       "3      female      PH             Cebu          Cebu    9.209720e+09   \n",
       "4        Male      PH  camarines norte          daet    6.400000e+11   \n",
       "...       ...     ...              ...           ...             ...   \n",
       "25892  Female      PH         Pampanga  San Fernando    6.400000e+11   \n",
       "25893  Female      PH      Nueva Ecija       Llanera    6.400000e+11   \n",
       "25894    Male      QA             Doha          Doha    6.390000e+11   \n",
       "25895    Male      PH       muntinlupa    muntinlupa    6.390000e+11   \n",
       "25896  Female      PH              NCR        Makati    6.390000e+11   \n",
       "\n",
       "                   income_source  Age  Days_being_customer  Ratio_2w_to_week  \\\n",
       "0         Practice of Profession   36                  401          0.000000   \n",
       "1                         salary   30                  401          0.000000   \n",
       "2               others Allowance   23                  395          0.153846   \n",
       "3                  others Salary   34                  343          0.000000   \n",
       "4      buy and sell used gadgets   39                  177          0.000000   \n",
       "...                          ...  ...                  ...               ...   \n",
       "25892                 Allowance    21                   90          0.000000   \n",
       "25893                 Remittance   31                  182          0.000000   \n",
       "25894               Compensation   43                  252          0.000000   \n",
       "25895                   Business   27                   98          0.000000   \n",
       "25896               Compensation   38                  177          0.000000   \n",
       "\n",
       "       Net Deposit Dec 2021  y_actual  \n",
       "0                       0.0      True  \n",
       "1                       0.0      True  \n",
       "2                  -26375.0     False  \n",
       "3                       0.0      True  \n",
       "4                       0.0      True  \n",
       "...                     ...       ...  \n",
       "25892                   0.0      True  \n",
       "25893                   0.0      True  \n",
       "25894                   0.0      True  \n",
       "25895                   0.0      True  \n",
       "25896                   0.0      True  \n",
       "\n",
       "[25897 rows x 11 columns]"
      ]
     },
     "execution_count": 7,
     "metadata": {},
     "output_type": "execute_result"
    }
   ],
   "source": [
    "df = df.drop('email_address', 1)\n",
    "df"
   ]
  },
  {
   "cell_type": "code",
   "execution_count": 6,
   "id": "83511fdf",
   "metadata": {},
   "outputs": [],
   "source": [
    "X = df.loc[:, 'Age':'Net Deposit Dec 2021']\n",
    "y = df[\"y_actual\"]"
   ]
  },
  {
   "cell_type": "code",
   "execution_count": 7,
   "id": "09350a02",
   "metadata": {},
   "outputs": [
    {
     "data": {
      "text/html": [
       "<div>\n",
       "<style scoped>\n",
       "    .dataframe tbody tr th:only-of-type {\n",
       "        vertical-align: middle;\n",
       "    }\n",
       "\n",
       "    .dataframe tbody tr th {\n",
       "        vertical-align: top;\n",
       "    }\n",
       "\n",
       "    .dataframe thead th {\n",
       "        text-align: right;\n",
       "    }\n",
       "</style>\n",
       "<table border=\"1\" class=\"dataframe\">\n",
       "  <thead>\n",
       "    <tr style=\"text-align: right;\">\n",
       "      <th></th>\n",
       "      <th>Age</th>\n",
       "      <th>Days_being_customer</th>\n",
       "      <th>Ratio_2w_to_week</th>\n",
       "      <th>Net Deposit Dec 2021</th>\n",
       "    </tr>\n",
       "  </thead>\n",
       "  <tbody>\n",
       "    <tr>\n",
       "      <th>0</th>\n",
       "      <td>36</td>\n",
       "      <td>401</td>\n",
       "      <td>0.000000</td>\n",
       "      <td>0.0</td>\n",
       "    </tr>\n",
       "    <tr>\n",
       "      <th>1</th>\n",
       "      <td>30</td>\n",
       "      <td>401</td>\n",
       "      <td>0.000000</td>\n",
       "      <td>0.0</td>\n",
       "    </tr>\n",
       "    <tr>\n",
       "      <th>2</th>\n",
       "      <td>23</td>\n",
       "      <td>395</td>\n",
       "      <td>0.153846</td>\n",
       "      <td>-26375.0</td>\n",
       "    </tr>\n",
       "    <tr>\n",
       "      <th>3</th>\n",
       "      <td>34</td>\n",
       "      <td>343</td>\n",
       "      <td>0.000000</td>\n",
       "      <td>0.0</td>\n",
       "    </tr>\n",
       "    <tr>\n",
       "      <th>4</th>\n",
       "      <td>39</td>\n",
       "      <td>177</td>\n",
       "      <td>0.000000</td>\n",
       "      <td>0.0</td>\n",
       "    </tr>\n",
       "  </tbody>\n",
       "</table>\n",
       "</div>"
      ],
      "text/plain": [
       "   Age  Days_being_customer  Ratio_2w_to_week  Net Deposit Dec 2021\n",
       "0   36                  401          0.000000                   0.0\n",
       "1   30                  401          0.000000                   0.0\n",
       "2   23                  395          0.153846              -26375.0\n",
       "3   34                  343          0.000000                   0.0\n",
       "4   39                  177          0.000000                   0.0"
      ]
     },
     "execution_count": 7,
     "metadata": {},
     "output_type": "execute_result"
    }
   ],
   "source": [
    "X.head()"
   ]
  },
  {
   "cell_type": "code",
   "execution_count": 8,
   "id": "540a7523",
   "metadata": {},
   "outputs": [
    {
     "data": {
      "text/plain": [
       "0     True\n",
       "1     True\n",
       "2    False\n",
       "3     True\n",
       "4     True\n",
       "Name: y_actual, dtype: bool"
      ]
     },
     "execution_count": 8,
     "metadata": {},
     "output_type": "execute_result"
    }
   ],
   "source": [
    "y.head()"
   ]
  },
  {
   "cell_type": "code",
   "execution_count": 9,
   "id": "9db312c3",
   "metadata": {},
   "outputs": [],
   "source": [
    "X_train, X_test, y_train, y_test = train_test_split(X, y, test_size = 0.2, random_state = 42)"
   ]
  },
  {
   "cell_type": "code",
   "execution_count": 10,
   "id": "4dc4b2ec",
   "metadata": {},
   "outputs": [
    {
     "data": {
      "text/plain": [
       "0.740696046724912"
      ]
     },
     "execution_count": 10,
     "metadata": {},
     "output_type": "execute_result"
    }
   ],
   "source": [
    "np.mean(y_train)"
   ]
  },
  {
   "cell_type": "code",
   "execution_count": null,
   "id": "f5bf3bbb",
   "metadata": {},
   "outputs": [],
   "source": []
  },
  {
   "cell_type": "code",
   "execution_count": 11,
   "id": "f359788b",
   "metadata": {},
   "outputs": [
    {
     "data": {
      "text/plain": [
       "0.7361003861003861"
      ]
     },
     "execution_count": 11,
     "metadata": {},
     "output_type": "execute_result"
    }
   ],
   "source": [
    "y_test.mean()"
   ]
  },
  {
   "cell_type": "code",
   "execution_count": 12,
   "id": "3c8fb684",
   "metadata": {},
   "outputs": [
    {
     "data": {
      "text/plain": [
       "<AxesSubplot:>"
      ]
     },
     "execution_count": 12,
     "metadata": {},
     "output_type": "execute_result"
    },
    {
     "data": {
      "image/png": "[encoded data removed]",
      "text/plain": [
       "<Figure size 432x288 with 1 Axes>"
      ]
     },
     "metadata": {
      "needs_background": "light"
     },
     "output_type": "display_data"
    }
   ],
   "source": [
    "X_train.Age.hist()"
   ]
  },
  {
   "cell_type": "code",
   "execution_count": 13,
   "id": "33b39bbf",
   "metadata": {},
   "outputs": [
    {
     "data": {
      "text/plain": [
       "Index(['email_address', 'sex', 'country', 'region', 'city', 'contact_number',\n",
       "       'income_source', 'Age', 'Days_being_customer', 'Ratio_2w_to_week',\n",
       "       'Net Deposit Dec 2021', 'y_actual'],\n",
       "      dtype='object')"
      ]
     },
     "execution_count": 13,
     "metadata": {},
     "output_type": "execute_result"
    }
   ],
   "source": [
    "df.columns"
   ]
  },
  {
   "cell_type": "code",
   "execution_count": 14,
   "id": "17065efd",
   "metadata": {},
   "outputs": [
    {
     "data": {
      "text/plain": [
       "<AxesSubplot:>"
      ]
     },
     "execution_count": 14,
     "metadata": {},
     "output_type": "execute_result"
    },
    {
     "data": {
      "image/png": "[encoded data removed]",
      "text/plain": [
       "<Figure size 432x288 with 1 Axes>"
      ]
     },
     "metadata": {
      "needs_background": "light"
     },
     "output_type": "display_data"
    }
   ],
   "source": [
    "np.log10(df[df[\"Ratio_2w_to_week\"] > 0][\"Ratio_2w_to_week\"]).hist()"
   ]
  },
  {
   "cell_type": "code",
   "execution_count": 16,
   "id": "1cdffbf6",
   "metadata": {},
   "outputs": [],
   "source": [
    "def accuracy(actuals, preds):\n",
    "    return np.mean(actuals == preds)\n",
    "\n",
    "def precision(actuals, preds):\n",
    "    tp = np.sum((actuals == 1) & (preds == 1))\n",
    "    fp = np.sum((actuals == 0) & (preds == 1))\n",
    "    return tp / (tp + fp)\n",
    "\n",
    "def recall(actuals, preds):\n",
    "    tp = np.sum((actuals == 1) & (preds == 1))\n",
    "    fn = np.sum((actuals == 1) & (preds == 0))\n",
    "    return tp / (tp + fn)\n",
    "\n",
    "def F1(actuals, preds):\n",
    "    p, r = precision(actuals, preds), recall(actuals, preds)\n",
    "    return 2*p*r / (p + r)"
   ]
  },
  {
   "cell_type": "markdown",
   "id": "0ea7a51c",
   "metadata": {},
   "source": [
    "# Oversampling the minority data"
   ]
  },
  {
   "cell_type": "code",
   "execution_count": 47,
   "id": "6b92eac3",
   "metadata": {},
   "outputs": [],
   "source": [
    "import imblearn.over_sampling"
   ]
  },
  {
   "cell_type": "code",
   "execution_count": 74,
   "id": "bfe53cd0",
   "metadata": {},
   "outputs": [],
   "source": [
    "n_pos = np.sum(y_train == 1)\n",
    "n_neg = np.sum(y_train == 0)\n",
    "\n",
    "#create 2x as many negative examples\n",
    "ratio = {1: n_pos, 0 : n_neg*2}"
   ]
  },
  {
   "cell_type": "code",
   "execution_count": 75,
   "id": "e075510d",
   "metadata": {},
   "outputs": [],
   "source": [
    "ROS = imblearn.over_sampling.RandomOverSampler(\n",
    "                                        sampling_strategy = ratio,\n",
    "                                        random_state = 42)"
   ]
  },
  {
   "cell_type": "code",
   "execution_count": 76,
   "id": "e16996e4",
   "metadata": {},
   "outputs": [],
   "source": [
    "X_train_rs, y_train_rs = ROS.fit_resample(X_train, y_train)"
   ]
  },
  {
   "cell_type": "code",
   "execution_count": 77,
   "id": "987002c6",
   "metadata": {},
   "outputs": [
    {
     "data": {
      "text/html": [
       "<div>\n",
       "<style scoped>\n",
       "    .dataframe tbody tr th:only-of-type {\n",
       "        vertical-align: middle;\n",
       "    }\n",
       "\n",
       "    .dataframe tbody tr th {\n",
       "        vertical-align: top;\n",
       "    }\n",
       "\n",
       "    .dataframe thead th {\n",
       "        text-align: right;\n",
       "    }\n",
       "</style>\n",
       "<table border=\"1\" class=\"dataframe\">\n",
       "  <thead>\n",
       "    <tr style=\"text-align: right;\">\n",
       "      <th></th>\n",
       "      <th>Age</th>\n",
       "      <th>Days_being_customer</th>\n",
       "      <th>Ratio_2w_to_week</th>\n",
       "      <th>Net Deposit Dec 2021</th>\n",
       "    </tr>\n",
       "  </thead>\n",
       "  <tbody>\n",
       "    <tr>\n",
       "      <th>0</th>\n",
       "      <td>38</td>\n",
       "      <td>387</td>\n",
       "      <td>0.000000</td>\n",
       "      <td>0.0</td>\n",
       "    </tr>\n",
       "    <tr>\n",
       "      <th>1</th>\n",
       "      <td>38</td>\n",
       "      <td>250</td>\n",
       "      <td>0.250000</td>\n",
       "      <td>0.0</td>\n",
       "    </tr>\n",
       "    <tr>\n",
       "      <th>2</th>\n",
       "      <td>23</td>\n",
       "      <td>270</td>\n",
       "      <td>0.000000</td>\n",
       "      <td>0.0</td>\n",
       "    </tr>\n",
       "    <tr>\n",
       "      <th>3</th>\n",
       "      <td>34</td>\n",
       "      <td>93</td>\n",
       "      <td>0.000000</td>\n",
       "      <td>0.0</td>\n",
       "    </tr>\n",
       "    <tr>\n",
       "      <th>4</th>\n",
       "      <td>25</td>\n",
       "      <td>131</td>\n",
       "      <td>0.000000</td>\n",
       "      <td>0.0</td>\n",
       "    </tr>\n",
       "    <tr>\n",
       "      <th>...</th>\n",
       "      <td>...</td>\n",
       "      <td>...</td>\n",
       "      <td>...</td>\n",
       "      <td>...</td>\n",
       "    </tr>\n",
       "    <tr>\n",
       "      <th>26084</th>\n",
       "      <td>36</td>\n",
       "      <td>402</td>\n",
       "      <td>0.000000</td>\n",
       "      <td>0.0</td>\n",
       "    </tr>\n",
       "    <tr>\n",
       "      <th>26085</th>\n",
       "      <td>43</td>\n",
       "      <td>263</td>\n",
       "      <td>0.242424</td>\n",
       "      <td>0.0</td>\n",
       "    </tr>\n",
       "    <tr>\n",
       "      <th>26086</th>\n",
       "      <td>30</td>\n",
       "      <td>261</td>\n",
       "      <td>0.000000</td>\n",
       "      <td>0.0</td>\n",
       "    </tr>\n",
       "    <tr>\n",
       "      <th>26087</th>\n",
       "      <td>24</td>\n",
       "      <td>216</td>\n",
       "      <td>0.333333</td>\n",
       "      <td>700.0</td>\n",
       "    </tr>\n",
       "    <tr>\n",
       "      <th>26088</th>\n",
       "      <td>38</td>\n",
       "      <td>278</td>\n",
       "      <td>0.000000</td>\n",
       "      <td>0.0</td>\n",
       "    </tr>\n",
       "  </tbody>\n",
       "</table>\n",
       "<p>26089 rows × 4 columns</p>\n",
       "</div>"
      ],
      "text/plain": [
       "       Age  Days_being_customer  Ratio_2w_to_week  Net Deposit Dec 2021\n",
       "0       38                  387          0.000000                   0.0\n",
       "1       38                  250          0.250000                   0.0\n",
       "2       23                  270          0.000000                   0.0\n",
       "3       34                   93          0.000000                   0.0\n",
       "4       25                  131          0.000000                   0.0\n",
       "...    ...                  ...               ...                   ...\n",
       "26084   36                  402          0.000000                   0.0\n",
       "26085   43                  263          0.242424                   0.0\n",
       "26086   30                  261          0.000000                   0.0\n",
       "26087   24                  216          0.333333                 700.0\n",
       "26088   38                  278          0.000000                   0.0\n",
       "\n",
       "[26089 rows x 4 columns]"
      ]
     },
     "execution_count": 77,
     "metadata": {},
     "output_type": "execute_result"
    }
   ],
   "source": [
    "X_train_rs"
   ]
  },
  {
   "cell_type": "code",
   "execution_count": 78,
   "id": "208d6a77",
   "metadata": {},
   "outputs": [
    {
     "data": {
      "text/plain": [
       "0         True\n",
       "1        False\n",
       "2         True\n",
       "3         True\n",
       "4         True\n",
       "         ...  \n",
       "26084    False\n",
       "26085    False\n",
       "26086    False\n",
       "26087    False\n",
       "26088    False\n",
       "Name: y_actual, Length: 26089, dtype: bool"
      ]
     },
     "execution_count": 78,
     "metadata": {},
     "output_type": "execute_result"
    }
   ],
   "source": [
    "y_train_rs"
   ]
  },
  {
   "cell_type": "code",
   "execution_count": 79,
   "id": "93c554de",
   "metadata": {},
   "outputs": [
    {
     "data": {
      "text/plain": [
       "1        False\n",
       "7        False\n",
       "9        False\n",
       "16       False\n",
       "21       False\n",
       "         ...  \n",
       "26084    False\n",
       "26085    False\n",
       "26086    False\n",
       "26087    False\n",
       "26088    False\n",
       "Name: y_actual, Length: 10744, dtype: bool"
      ]
     },
     "execution_count": 79,
     "metadata": {},
     "output_type": "execute_result"
    }
   ],
   "source": [
    "y_train_rs[y_train_rs == 0]"
   ]
  },
  {
   "cell_type": "code",
   "execution_count": 80,
   "id": "3cbce831",
   "metadata": {},
   "outputs": [],
   "source": [
    "from sklearn.linear_model import LogisticRegression\n",
    "from sklearn.metrics import log_loss\n",
    "\n",
    "lr_model_all = LogisticRegression(C=10000)\n",
    "lr_model_all.fit(X_train_rs, y_train_rs)\n",
    "y_prob_pred_train = lr_model_all.predict_proba(X_train)[:,1]\n",
    "y_prob_pred_test = lr_model_all.predict_proba(X_test)[:,1]"
   ]
  },
  {
   "cell_type": "code",
   "execution_count": 81,
   "id": "d19896af",
   "metadata": {},
   "outputs": [
    {
     "data": {
      "text/plain": [
       "array([[0.40623825, 0.59376175],\n",
       "       [0.45249669, 0.54750331],\n",
       "       [0.42056916, 0.57943084],\n",
       "       ...,\n",
       "       [0.3839819 , 0.6160181 ],\n",
       "       [0.69878988, 0.30121012],\n",
       "       [0.37128704, 0.62871296]])"
      ]
     },
     "execution_count": 81,
     "metadata": {},
     "output_type": "execute_result"
    }
   ],
   "source": [
    "lr_model_all.predict_proba(X_train)"
   ]
  },
  {
   "cell_type": "code",
   "execution_count": 92,
   "id": "44f8fd07",
   "metadata": {},
   "outputs": [
    {
     "name": "stdout",
     "output_type": "stream",
     "text": [
      "Logistic regression validation metrics: \n",
      " Accuracy: 0.7452 \n",
      " Precision: 0.7575 \n",
      " Recall: 0.9617 \n",
      " F1: 0.8475\n"
     ]
    }
   ],
   "source": [
    "print('Logistic regression validation metrics: \\n Accuracy: %.4f \\n Precision: %.4f \\n Recall: %.4f \\n F1: %.4f' %\n",
    "        (accuracy(y_test, lr_model_all.predict(X_test)), \n",
    "         precision(y_test, lr_model_all.predict(X_test)), \n",
    "         recall(y_test, lr_model_all.predict(X_test)),\n",
    "         F1(y_test, lr_model_all.predict(X_test))\n",
    "        )\n",
    "     )"
   ]
  },
  {
   "cell_type": "code",
   "execution_count": 84,
   "id": "f39b7eed",
   "metadata": {},
   "outputs": [
    {
     "name": "stdout",
     "output_type": "stream",
     "text": [
      "Logistic regression validation metrics: \n",
      " Accuracy: 0.6274 \n",
      " Precision: 0.6179 \n",
      " Recall: 0.9601 \n",
      " F1: 0.7519\n"
     ]
    }
   ],
   "source": [
    "print('Logistic regression validation metrics: \\n Accuracy: %.4f \\n Precision: %.4f \\n Recall: %.4f \\n F1: %.4f' %\n",
    "        (accuracy(y_train_rs, lr_model_all.predict(X_train_rs)), \n",
    "         precision(y_train_r, lr_model_all.predict(X_train_rs)), \n",
    "         recall(y_train_rs, lr_model_all.predict(X_train_rs)),\n",
    "         F1(y_train_rs, lr_model_all.predict(X_train_rs))\n",
    "        )\n",
    "     )"
   ]
  },
  {
   "cell_type": "code",
   "execution_count": 33,
   "id": "f7731629",
   "metadata": {},
   "outputs": [
    {
     "data": {
      "text/plain": [
       "<AxesSubplot:>"
      ]
     },
     "execution_count": 33,
     "metadata": {},
     "output_type": "execute_result"
    },
    {
     "data": {
      "image/png": "[encoded data removed]",
      "text/plain": [
       "<Figure size 432x288 with 1 Axes>"
      ]
     },
     "metadata": {},
     "output_type": "display_data"
    }
   ],
   "source": [
    "y_train = y_train.to_frame() #Ask why we need this line\n",
    "y_train[\"y_prob_pred\"] = y_prob_pred_train\n",
    "y_train[\"y_prob_pred\"].hist(bins=100)"
   ]
  },
  {
   "cell_type": "code",
   "execution_count": 34,
   "id": "e5542c70",
   "metadata": {},
   "outputs": [
    {
     "data": {
      "text/plain": [
       "<AxesSubplot:>"
      ]
     },
     "execution_count": 34,
     "metadata": {},
     "output_type": "execute_result"
    },
    {
     "data": {
      "image/png": "[encoded data removed]",
      "text/plain": [
       "<Figure size 432x288 with 1 Axes>"
      ]
     },
     "metadata": {},
     "output_type": "display_data"
    }
   ],
   "source": [
    "y_test = y_test.to_frame()\n",
    "y_test[\"y_prob_pred\"] = y_prob_pred_test\n",
    "y_test[\"y_prob_pred\"].hist(bins=100)"
   ]
  },
  {
   "cell_type": "code",
   "execution_count": 21,
   "id": "3833b32f",
   "metadata": {},
   "outputs": [],
   "source": [
    "from sklearn.metrics import confusion_matrix, roc_auc_score"
   ]
  },
  {
   "cell_type": "code",
   "execution_count": 94,
   "id": "91ec635f",
   "metadata": {},
   "outputs": [],
   "source": [
    "#confusion_matrix(y_train[\"y_actual\"], y_train[\"y_prob_pred\"].round())"
   ]
  },
  {
   "cell_type": "code",
   "execution_count": 95,
   "id": "c8155278",
   "metadata": {},
   "outputs": [],
   "source": [
    "#confusion_matrix(y_test[\"y_actual\"], y_test[\"y_prob_pred\"].round())"
   ]
  },
  {
   "cell_type": "code",
   "execution_count": null,
   "id": "c6448158",
   "metadata": {},
   "outputs": [],
   "source": []
  },
  {
   "cell_type": "code",
   "execution_count": null,
   "id": "759c5a06",
   "metadata": {},
   "outputs": [],
   "source": []
  },
  {
   "cell_type": "code",
   "execution_count": 42,
   "id": "f35f251e",
   "metadata": {},
   "outputs": [
    {
     "data": {
      "text/plain": [
       "array([[ 1.92359678e-02,  3.20494903e-05, -8.99865001e-01,\n",
       "        -1.01608887e-06]])"
      ]
     },
     "execution_count": 42,
     "metadata": {},
     "output_type": "execute_result"
    }
   ],
   "source": [
    "lr_model_all.coef_"
   ]
  },
  {
   "cell_type": "code",
   "execution_count": 43,
   "id": "b46fd967",
   "metadata": {},
   "outputs": [
    {
     "data": {
      "text/plain": [
       "array([[1.01942217, 1.00003205, 0.40662455, 0.99999898]])"
      ]
     },
     "execution_count": 43,
     "metadata": {},
     "output_type": "execute_result"
    }
   ],
   "source": [
    "np.exp(lr_model_all.coef_)"
   ]
  },
  {
   "cell_type": "code",
   "execution_count": 83,
   "id": "51f109c4",
   "metadata": {},
   "outputs": [
    {
     "data": {
      "text/plain": [
       "Index(['Age', 'Days_being_customer', 'Ratio_2w_to_week',\n",
       "       'Net Deposit Dec 2021'],\n",
       "      dtype='object')"
      ]
     },
     "execution_count": 83,
     "metadata": {},
     "output_type": "execute_result"
    }
   ],
   "source": [
    "X.columns"
   ]
  },
  {
   "cell_type": "code",
   "execution_count": 19,
   "id": "92263821",
   "metadata": {},
   "outputs": [],
   "source": []
  },
  {
   "cell_type": "code",
   "execution_count": 30,
   "id": "bb14ed14",
   "metadata": {},
   "outputs": [
    {
     "data": {
      "text/plain": [
       "<matplotlib.legend.Legend at 0x7fce74341a90>"
      ]
     },
     "execution_count": 30,
     "metadata": {},
     "output_type": "execute_result"
    },
    {
     "data": {
      "image/png": "[encoded data removed]",
      "text/plain": [
       "<Figure size 432x288 with 1 Axes>"
      ]
     },
     "metadata": {},
     "output_type": "display_data"
    }
   ],
   "source": [
    "import matplotlib.pyplot as plt\n",
    "%matplotlib inline\n",
    "import seaborn as sns\n",
    "sns.set()\n",
    "\n",
    "def fpr(actuals, preds):\n",
    "    fp = np.sum((actuals == 0) & (preds == 1))\n",
    "    tn = np.sum((actuals == 0) & (preds == 0))\n",
    "    return fp / (fp + tn)    \n",
    "\n",
    "def plot_ROC_curve(model, X, y):\n",
    "    \n",
    "    probs = model.predict_proba(X)[:,1]\n",
    "    fprs, tprs = [],[]\n",
    "    \n",
    "    for p in np.linspace(1,0,100):\n",
    "        preds = probs >= p\n",
    "        fprs.append(fpr(y, preds))\n",
    "        tprs.append(recall(y, preds))\n",
    "    \n",
    "    plt.plot(fprs, tprs)\n",
    "    plt.title('ROC Curve')\n",
    "    plt.xlabel('False Positive Rate')\n",
    "    plt.ylabel('True Positive Rate')\n",
    "            \n",
    "plot_ROC_curve(lr_model_all, X_test, y_test) \n",
    "x = np.linspace(0, 1, 10)\n",
    "plt.plot(x, x, linestyle='--')\n",
    "plt.legend(['Logistic Regression'])"
   ]
  },
  {
   "cell_type": "markdown",
   "id": "9578466c",
   "metadata": {},
   "source": [
    "# Confusion Matrix and Metrics"
   ]
  },
  {
   "cell_type": "code",
   "execution_count": 87,
   "id": "2ce94b98",
   "metadata": {},
   "outputs": [
    {
     "name": "stderr",
     "output_type": "stream",
     "text": [
      "/Users/lisun/opt/anaconda3/envs/metis/lib/python3.9/site-packages/sklearn/utils/deprecation.py:87: FutureWarning: Function plot_confusion_matrix is deprecated; Function `plot_confusion_matrix` is deprecated in 1.0 and will be removed in 1.2. Use one of the class methods: ConfusionMatrixDisplay.from_predictions or ConfusionMatrixDisplay.from_estimator.\n",
      "  warnings.warn(msg, category=FutureWarning)\n"
     ]
    },
    {
     "data": {
      "text/plain": [
       "<sklearn.metrics._plot.confusion_matrix.ConfusionMatrixDisplay at 0x15b7ab0d0>"
      ]
     },
     "execution_count": 87,
     "metadata": {},
     "output_type": "execute_result"
    },
    {
     "data": {
      "image/png": "[encoded data removed]",
      "text/plain": [
       "<Figure size 432x288 with 2 Axes>"
      ]
     },
     "metadata": {
      "needs_background": "light"
     },
     "output_type": "display_data"
    }
   ],
   "source": [
    "from sklearn.metrics import plot_confusion_matrix\n",
    "plot_confusion_matrix(lr_model_all,\n",
    "                      X_train,\n",
    "                      y_train,\n",
    "                      values_format='d',\n",
    "                      display_labels = [\"Retained\", \"Churned\"])"
   ]
  },
  {
   "cell_type": "code",
   "execution_count": 88,
   "id": "ee9de533",
   "metadata": {
    "scrolled": true
   },
   "outputs": [
    {
     "name": "stderr",
     "output_type": "stream",
     "text": [
      "/Users/lisun/opt/anaconda3/envs/metis/lib/python3.9/site-packages/sklearn/utils/deprecation.py:87: FutureWarning: Function plot_confusion_matrix is deprecated; Function `plot_confusion_matrix` is deprecated in 1.0 and will be removed in 1.2. Use one of the class methods: ConfusionMatrixDisplay.from_predictions or ConfusionMatrixDisplay.from_estimator.\n",
      "  warnings.warn(msg, category=FutureWarning)\n"
     ]
    },
    {
     "data": {
      "text/plain": [
       "<sklearn.metrics._plot.confusion_matrix.ConfusionMatrixDisplay at 0x15c1f1d30>"
      ]
     },
     "execution_count": 88,
     "metadata": {},
     "output_type": "execute_result"
    },
    {
     "data": {
      "image/png": "[encoded data removed]",
      "text/plain": [
       "<Figure size 432x288 with 2 Axes>"
      ]
     },
     "metadata": {
      "needs_background": "light"
     },
     "output_type": "display_data"
    }
   ],
   "source": [
    "from sklearn.metrics import plot_confusion_matrix\n",
    "plot_confusion_matrix(lr_model_all,\n",
    "                      X_test,\n",
    "                      y_test,\n",
    "                      values_format='d',\n",
    "                      display_labels = [\"Retained\", \"Churned\"])"
   ]
  },
  {
   "cell_type": "code",
   "execution_count": 96,
   "id": "76dd5280",
   "metadata": {},
   "outputs": [
    {
     "name": "stdout",
     "output_type": "stream",
     "text": [
      "              precision    recall  f1-score   support\n",
      "\n",
      "       False       0.57      0.15      0.24      5372\n",
      "        True       0.76      0.96      0.85     15345\n",
      "\n",
      "    accuracy                           0.75     20717\n",
      "   macro avg       0.67      0.56      0.54     20717\n",
      "weighted avg       0.71      0.75      0.69     20717\n",
      "\n"
     ]
    }
   ],
   "source": [
    "print(classification_report(y_train, lr_model_all.predict(X_train)))"
   ]
  },
  {
   "cell_type": "code",
   "execution_count": 97,
   "id": "bf3e7c63",
   "metadata": {},
   "outputs": [
    {
     "name": "stdout",
     "output_type": "stream",
     "text": [
      "              precision    recall  f1-score   support\n",
      "\n",
      "       False       0.57      0.14      0.23      1367\n",
      "        True       0.76      0.96      0.85      3813\n",
      "\n",
      "    accuracy                           0.75      5180\n",
      "   macro avg       0.66      0.55      0.54      5180\n",
      "weighted avg       0.71      0.75      0.68      5180\n",
      "\n"
     ]
    }
   ],
   "source": [
    "print(classification_report(y_test, lr_model_all.predict(X_test)))"
   ]
  },
  {
   "cell_type": "code",
   "execution_count": null,
   "id": "66327000",
   "metadata": {},
   "outputs": [],
   "source": []
  }
 ],
 "metadata": {
  "kernelspec": {
   "display_name": "Python 3 (ipykernel)",
   "language": "python",
   "name": "python3"
  },
  "language_info": {
   "codemirror_mode": {
    "name": "ipython",
    "version": 3
   },
   "file_extension": ".py",
   "mimetype": "text/x-python",
   "name": "python",
   "nbconvert_exporter": "python",
   "pygments_lexer": "ipython3",
   "version": "3.9.7"
  }
 },
 "nbformat": 4,
 "nbformat_minor": 5
}
