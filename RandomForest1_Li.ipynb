{
 "cells": [
  {
   "cell_type": "code",
   "execution_count": 29,
   "id": "47d05930",
   "metadata": {},
   "outputs": [],
   "source": [
    "import pandas as pd\n",
    "import numpy as np\n",
    "import matplotlib.pyplot as plt\n",
    "import sklearn\n",
    "from sklearn.metrics import confusion_matrix, recall_score, precision_score\n",
    "from sklearn.metrics import classification_report\n",
    "from sklearn.metrics import plot_confusion_matrix"
   ]
  },
  {
   "cell_type": "code",
   "execution_count": 2,
   "id": "a8ef8267",
   "metadata": {},
   "outputs": [],
   "source": [
    "df = pd.read_csv('DataSet_1_Dirty_2.11.2022 v5 (numerics grouped).csv')"
   ]
  },
  {
   "cell_type": "code",
   "execution_count": 3,
   "id": "86c1535e",
   "metadata": {},
   "outputs": [
    {
     "name": "stderr",
     "output_type": "stream",
     "text": [
      "/var/folders/9j/sb9k3k3n66dgyqgmnmvbft8w0000gn/T/ipykernel_71657/3409819096.py:1: FutureWarning: In a future version of pandas all arguments of DataFrame.drop except for the argument 'labels' will be keyword-only\n",
      "  df = df.drop('email_address', 1)\n"
     ]
    }
   ],
   "source": [
    "df = df.drop('email_address', 1)"
   ]
  },
  {
   "cell_type": "code",
   "execution_count": 4,
   "id": "85df0410",
   "metadata": {
    "collapsed": true
   },
   "outputs": [
    {
     "data": {
      "text/html": [
       "<div>\n",
       "<style scoped>\n",
       "    .dataframe tbody tr th:only-of-type {\n",
       "        vertical-align: middle;\n",
       "    }\n",
       "\n",
       "    .dataframe tbody tr th {\n",
       "        vertical-align: top;\n",
       "    }\n",
       "\n",
       "    .dataframe thead th {\n",
       "        text-align: right;\n",
       "    }\n",
       "</style>\n",
       "<table border=\"1\" class=\"dataframe\">\n",
       "  <thead>\n",
       "    <tr style=\"text-align: right;\">\n",
       "      <th></th>\n",
       "      <th>sex</th>\n",
       "      <th>country</th>\n",
       "      <th>region</th>\n",
       "      <th>city</th>\n",
       "      <th>contact_number</th>\n",
       "      <th>income_source</th>\n",
       "      <th>Age</th>\n",
       "      <th>Days_being_customer</th>\n",
       "      <th>Ratio_2w_to_week</th>\n",
       "      <th>Net Deposit Dec 2021</th>\n",
       "      <th>Month of January</th>\n",
       "    </tr>\n",
       "  </thead>\n",
       "  <tbody>\n",
       "    <tr>\n",
       "      <th>0</th>\n",
       "      <td>Male</td>\n",
       "      <td>PH</td>\n",
       "      <td>Metro Manila</td>\n",
       "      <td>Parañaque</td>\n",
       "      <td>6.390000e+11</td>\n",
       "      <td>Practice of Profession</td>\n",
       "      <td>36</td>\n",
       "      <td>401</td>\n",
       "      <td>0.000000</td>\n",
       "      <td>0.0</td>\n",
       "      <td>0</td>\n",
       "    </tr>\n",
       "    <tr>\n",
       "      <th>1</th>\n",
       "      <td>Male</td>\n",
       "      <td>AE</td>\n",
       "      <td>al karama</td>\n",
       "      <td>Dubai</td>\n",
       "      <td>9.710000e+12</td>\n",
       "      <td>salary</td>\n",
       "      <td>30</td>\n",
       "      <td>401</td>\n",
       "      <td>0.000000</td>\n",
       "      <td>0.0</td>\n",
       "      <td>0</td>\n",
       "    </tr>\n",
       "    <tr>\n",
       "      <th>2</th>\n",
       "      <td>male</td>\n",
       "      <td>PH</td>\n",
       "      <td>Nueva Vizcaya</td>\n",
       "      <td>Solano</td>\n",
       "      <td>9.395438e+09</td>\n",
       "      <td>others Allowance</td>\n",
       "      <td>23</td>\n",
       "      <td>395</td>\n",
       "      <td>0.153846</td>\n",
       "      <td>-26375.0</td>\n",
       "      <td>1</td>\n",
       "    </tr>\n",
       "    <tr>\n",
       "      <th>3</th>\n",
       "      <td>female</td>\n",
       "      <td>PH</td>\n",
       "      <td>Cebu</td>\n",
       "      <td>Cebu</td>\n",
       "      <td>9.209720e+09</td>\n",
       "      <td>others Salary</td>\n",
       "      <td>34</td>\n",
       "      <td>343</td>\n",
       "      <td>0.000000</td>\n",
       "      <td>0.0</td>\n",
       "      <td>0</td>\n",
       "    </tr>\n",
       "    <tr>\n",
       "      <th>4</th>\n",
       "      <td>Male</td>\n",
       "      <td>PH</td>\n",
       "      <td>camarines norte</td>\n",
       "      <td>daet</td>\n",
       "      <td>6.400000e+11</td>\n",
       "      <td>buy and sell used gadgets</td>\n",
       "      <td>39</td>\n",
       "      <td>177</td>\n",
       "      <td>0.000000</td>\n",
       "      <td>0.0</td>\n",
       "      <td>0</td>\n",
       "    </tr>\n",
       "    <tr>\n",
       "      <th>...</th>\n",
       "      <td>...</td>\n",
       "      <td>...</td>\n",
       "      <td>...</td>\n",
       "      <td>...</td>\n",
       "      <td>...</td>\n",
       "      <td>...</td>\n",
       "      <td>...</td>\n",
       "      <td>...</td>\n",
       "      <td>...</td>\n",
       "      <td>...</td>\n",
       "      <td>...</td>\n",
       "    </tr>\n",
       "    <tr>\n",
       "      <th>25892</th>\n",
       "      <td>Female</td>\n",
       "      <td>PH</td>\n",
       "      <td>Pampanga</td>\n",
       "      <td>San Fernando</td>\n",
       "      <td>6.400000e+11</td>\n",
       "      <td>Allowance</td>\n",
       "      <td>21</td>\n",
       "      <td>90</td>\n",
       "      <td>0.000000</td>\n",
       "      <td>0.0</td>\n",
       "      <td>0</td>\n",
       "    </tr>\n",
       "    <tr>\n",
       "      <th>25893</th>\n",
       "      <td>Female</td>\n",
       "      <td>PH</td>\n",
       "      <td>Nueva Ecija</td>\n",
       "      <td>Llanera</td>\n",
       "      <td>6.400000e+11</td>\n",
       "      <td>Remittance</td>\n",
       "      <td>31</td>\n",
       "      <td>182</td>\n",
       "      <td>0.000000</td>\n",
       "      <td>0.0</td>\n",
       "      <td>0</td>\n",
       "    </tr>\n",
       "    <tr>\n",
       "      <th>25894</th>\n",
       "      <td>Male</td>\n",
       "      <td>QA</td>\n",
       "      <td>Doha</td>\n",
       "      <td>Doha</td>\n",
       "      <td>6.390000e+11</td>\n",
       "      <td>Compensation</td>\n",
       "      <td>43</td>\n",
       "      <td>252</td>\n",
       "      <td>0.000000</td>\n",
       "      <td>0.0</td>\n",
       "      <td>0</td>\n",
       "    </tr>\n",
       "    <tr>\n",
       "      <th>25895</th>\n",
       "      <td>Male</td>\n",
       "      <td>PH</td>\n",
       "      <td>muntinlupa</td>\n",
       "      <td>muntinlupa</td>\n",
       "      <td>6.390000e+11</td>\n",
       "      <td>Business</td>\n",
       "      <td>27</td>\n",
       "      <td>98</td>\n",
       "      <td>0.000000</td>\n",
       "      <td>0.0</td>\n",
       "      <td>0</td>\n",
       "    </tr>\n",
       "    <tr>\n",
       "      <th>25896</th>\n",
       "      <td>Female</td>\n",
       "      <td>PH</td>\n",
       "      <td>NCR</td>\n",
       "      <td>Makati</td>\n",
       "      <td>6.390000e+11</td>\n",
       "      <td>Compensation</td>\n",
       "      <td>38</td>\n",
       "      <td>177</td>\n",
       "      <td>0.000000</td>\n",
       "      <td>0.0</td>\n",
       "      <td>0</td>\n",
       "    </tr>\n",
       "  </tbody>\n",
       "</table>\n",
       "<p>25897 rows × 11 columns</p>\n",
       "</div>"
      ],
      "text/plain": [
       "          sex country           region          city  contact_number  \\\n",
       "0        Male      PH     Metro Manila    Parañaque     6.390000e+11   \n",
       "1        Male      AE        al karama         Dubai    9.710000e+12   \n",
       "2        male      PH    Nueva Vizcaya        Solano    9.395438e+09   \n",
       "3      female      PH             Cebu          Cebu    9.209720e+09   \n",
       "4        Male      PH  camarines norte          daet    6.400000e+11   \n",
       "...       ...     ...              ...           ...             ...   \n",
       "25892  Female      PH         Pampanga  San Fernando    6.400000e+11   \n",
       "25893  Female      PH      Nueva Ecija       Llanera    6.400000e+11   \n",
       "25894    Male      QA             Doha          Doha    6.390000e+11   \n",
       "25895    Male      PH       muntinlupa    muntinlupa    6.390000e+11   \n",
       "25896  Female      PH              NCR        Makati    6.390000e+11   \n",
       "\n",
       "                   income_source  Age  Days_being_customer  Ratio_2w_to_week  \\\n",
       "0         Practice of Profession   36                  401          0.000000   \n",
       "1                         salary   30                  401          0.000000   \n",
       "2               others Allowance   23                  395          0.153846   \n",
       "3                  others Salary   34                  343          0.000000   \n",
       "4      buy and sell used gadgets   39                  177          0.000000   \n",
       "...                          ...  ...                  ...               ...   \n",
       "25892                 Allowance    21                   90          0.000000   \n",
       "25893                 Remittance   31                  182          0.000000   \n",
       "25894               Compensation   43                  252          0.000000   \n",
       "25895                   Business   27                   98          0.000000   \n",
       "25896               Compensation   38                  177          0.000000   \n",
       "\n",
       "       Net Deposit Dec 2021  Month of January  \n",
       "0                       0.0                 0  \n",
       "1                       0.0                 0  \n",
       "2                  -26375.0                 1  \n",
       "3                       0.0                 0  \n",
       "4                       0.0                 0  \n",
       "...                     ...               ...  \n",
       "25892                   0.0                 0  \n",
       "25893                   0.0                 0  \n",
       "25894                   0.0                 0  \n",
       "25895                   0.0                 0  \n",
       "25896                   0.0                 0  \n",
       "\n",
       "[25897 rows x 11 columns]"
      ]
     },
     "execution_count": 4,
     "metadata": {},
     "output_type": "execute_result"
    }
   ],
   "source": [
    "df"
   ]
  },
  {
   "cell_type": "code",
   "execution_count": 5,
   "id": "a974ba9a",
   "metadata": {},
   "outputs": [],
   "source": [
    "#Reversing the Y_target\n",
    "df.rename(columns={\"Month of January\": \"y_actual\"}, inplace=True)"
   ]
  },
  {
   "cell_type": "code",
   "execution_count": 6,
   "id": "84554797",
   "metadata": {},
   "outputs": [],
   "source": [
    "df[\"y_actual\"] = ~df[\"y_actual\"].astype(bool)"
   ]
  },
  {
   "cell_type": "code",
   "execution_count": 7,
   "id": "aa8e5b35",
   "metadata": {},
   "outputs": [
    {
     "data": {
      "text/html": [
       "<div>\n",
       "<style scoped>\n",
       "    .dataframe tbody tr th:only-of-type {\n",
       "        vertical-align: middle;\n",
       "    }\n",
       "\n",
       "    .dataframe tbody tr th {\n",
       "        vertical-align: top;\n",
       "    }\n",
       "\n",
       "    .dataframe thead th {\n",
       "        text-align: right;\n",
       "    }\n",
       "</style>\n",
       "<table border=\"1\" class=\"dataframe\">\n",
       "  <thead>\n",
       "    <tr style=\"text-align: right;\">\n",
       "      <th></th>\n",
       "      <th>sex</th>\n",
       "      <th>country</th>\n",
       "      <th>region</th>\n",
       "      <th>city</th>\n",
       "      <th>contact_number</th>\n",
       "      <th>income_source</th>\n",
       "      <th>Age</th>\n",
       "      <th>Days_being_customer</th>\n",
       "      <th>Ratio_2w_to_week</th>\n",
       "      <th>Net Deposit Dec 2021</th>\n",
       "      <th>y_actual</th>\n",
       "    </tr>\n",
       "  </thead>\n",
       "  <tbody>\n",
       "    <tr>\n",
       "      <th>0</th>\n",
       "      <td>Male</td>\n",
       "      <td>PH</td>\n",
       "      <td>Metro Manila</td>\n",
       "      <td>Parañaque</td>\n",
       "      <td>6.390000e+11</td>\n",
       "      <td>Practice of Profession</td>\n",
       "      <td>36</td>\n",
       "      <td>401</td>\n",
       "      <td>0.000000</td>\n",
       "      <td>0.0</td>\n",
       "      <td>True</td>\n",
       "    </tr>\n",
       "    <tr>\n",
       "      <th>1</th>\n",
       "      <td>Male</td>\n",
       "      <td>AE</td>\n",
       "      <td>al karama</td>\n",
       "      <td>Dubai</td>\n",
       "      <td>9.710000e+12</td>\n",
       "      <td>salary</td>\n",
       "      <td>30</td>\n",
       "      <td>401</td>\n",
       "      <td>0.000000</td>\n",
       "      <td>0.0</td>\n",
       "      <td>True</td>\n",
       "    </tr>\n",
       "    <tr>\n",
       "      <th>2</th>\n",
       "      <td>male</td>\n",
       "      <td>PH</td>\n",
       "      <td>Nueva Vizcaya</td>\n",
       "      <td>Solano</td>\n",
       "      <td>9.395438e+09</td>\n",
       "      <td>others Allowance</td>\n",
       "      <td>23</td>\n",
       "      <td>395</td>\n",
       "      <td>0.153846</td>\n",
       "      <td>-26375.0</td>\n",
       "      <td>False</td>\n",
       "    </tr>\n",
       "    <tr>\n",
       "      <th>3</th>\n",
       "      <td>female</td>\n",
       "      <td>PH</td>\n",
       "      <td>Cebu</td>\n",
       "      <td>Cebu</td>\n",
       "      <td>9.209720e+09</td>\n",
       "      <td>others Salary</td>\n",
       "      <td>34</td>\n",
       "      <td>343</td>\n",
       "      <td>0.000000</td>\n",
       "      <td>0.0</td>\n",
       "      <td>True</td>\n",
       "    </tr>\n",
       "    <tr>\n",
       "      <th>4</th>\n",
       "      <td>Male</td>\n",
       "      <td>PH</td>\n",
       "      <td>camarines norte</td>\n",
       "      <td>daet</td>\n",
       "      <td>6.400000e+11</td>\n",
       "      <td>buy and sell used gadgets</td>\n",
       "      <td>39</td>\n",
       "      <td>177</td>\n",
       "      <td>0.000000</td>\n",
       "      <td>0.0</td>\n",
       "      <td>True</td>\n",
       "    </tr>\n",
       "    <tr>\n",
       "      <th>...</th>\n",
       "      <td>...</td>\n",
       "      <td>...</td>\n",
       "      <td>...</td>\n",
       "      <td>...</td>\n",
       "      <td>...</td>\n",
       "      <td>...</td>\n",
       "      <td>...</td>\n",
       "      <td>...</td>\n",
       "      <td>...</td>\n",
       "      <td>...</td>\n",
       "      <td>...</td>\n",
       "    </tr>\n",
       "    <tr>\n",
       "      <th>25892</th>\n",
       "      <td>Female</td>\n",
       "      <td>PH</td>\n",
       "      <td>Pampanga</td>\n",
       "      <td>San Fernando</td>\n",
       "      <td>6.400000e+11</td>\n",
       "      <td>Allowance</td>\n",
       "      <td>21</td>\n",
       "      <td>90</td>\n",
       "      <td>0.000000</td>\n",
       "      <td>0.0</td>\n",
       "      <td>True</td>\n",
       "    </tr>\n",
       "    <tr>\n",
       "      <th>25893</th>\n",
       "      <td>Female</td>\n",
       "      <td>PH</td>\n",
       "      <td>Nueva Ecija</td>\n",
       "      <td>Llanera</td>\n",
       "      <td>6.400000e+11</td>\n",
       "      <td>Remittance</td>\n",
       "      <td>31</td>\n",
       "      <td>182</td>\n",
       "      <td>0.000000</td>\n",
       "      <td>0.0</td>\n",
       "      <td>True</td>\n",
       "    </tr>\n",
       "    <tr>\n",
       "      <th>25894</th>\n",
       "      <td>Male</td>\n",
       "      <td>QA</td>\n",
       "      <td>Doha</td>\n",
       "      <td>Doha</td>\n",
       "      <td>6.390000e+11</td>\n",
       "      <td>Compensation</td>\n",
       "      <td>43</td>\n",
       "      <td>252</td>\n",
       "      <td>0.000000</td>\n",
       "      <td>0.0</td>\n",
       "      <td>True</td>\n",
       "    </tr>\n",
       "    <tr>\n",
       "      <th>25895</th>\n",
       "      <td>Male</td>\n",
       "      <td>PH</td>\n",
       "      <td>muntinlupa</td>\n",
       "      <td>muntinlupa</td>\n",
       "      <td>6.390000e+11</td>\n",
       "      <td>Business</td>\n",
       "      <td>27</td>\n",
       "      <td>98</td>\n",
       "      <td>0.000000</td>\n",
       "      <td>0.0</td>\n",
       "      <td>True</td>\n",
       "    </tr>\n",
       "    <tr>\n",
       "      <th>25896</th>\n",
       "      <td>Female</td>\n",
       "      <td>PH</td>\n",
       "      <td>NCR</td>\n",
       "      <td>Makati</td>\n",
       "      <td>6.390000e+11</td>\n",
       "      <td>Compensation</td>\n",
       "      <td>38</td>\n",
       "      <td>177</td>\n",
       "      <td>0.000000</td>\n",
       "      <td>0.0</td>\n",
       "      <td>True</td>\n",
       "    </tr>\n",
       "  </tbody>\n",
       "</table>\n",
       "<p>25897 rows × 11 columns</p>\n",
       "</div>"
      ],
      "text/plain": [
       "          sex country           region          city  contact_number  \\\n",
       "0        Male      PH     Metro Manila    Parañaque     6.390000e+11   \n",
       "1        Male      AE        al karama         Dubai    9.710000e+12   \n",
       "2        male      PH    Nueva Vizcaya        Solano    9.395438e+09   \n",
       "3      female      PH             Cebu          Cebu    9.209720e+09   \n",
       "4        Male      PH  camarines norte          daet    6.400000e+11   \n",
       "...       ...     ...              ...           ...             ...   \n",
       "25892  Female      PH         Pampanga  San Fernando    6.400000e+11   \n",
       "25893  Female      PH      Nueva Ecija       Llanera    6.400000e+11   \n",
       "25894    Male      QA             Doha          Doha    6.390000e+11   \n",
       "25895    Male      PH       muntinlupa    muntinlupa    6.390000e+11   \n",
       "25896  Female      PH              NCR        Makati    6.390000e+11   \n",
       "\n",
       "                   income_source  Age  Days_being_customer  Ratio_2w_to_week  \\\n",
       "0         Practice of Profession   36                  401          0.000000   \n",
       "1                         salary   30                  401          0.000000   \n",
       "2               others Allowance   23                  395          0.153846   \n",
       "3                  others Salary   34                  343          0.000000   \n",
       "4      buy and sell used gadgets   39                  177          0.000000   \n",
       "...                          ...  ...                  ...               ...   \n",
       "25892                 Allowance    21                   90          0.000000   \n",
       "25893                 Remittance   31                  182          0.000000   \n",
       "25894               Compensation   43                  252          0.000000   \n",
       "25895                   Business   27                   98          0.000000   \n",
       "25896               Compensation   38                  177          0.000000   \n",
       "\n",
       "       Net Deposit Dec 2021  y_actual  \n",
       "0                       0.0      True  \n",
       "1                       0.0      True  \n",
       "2                  -26375.0     False  \n",
       "3                       0.0      True  \n",
       "4                       0.0      True  \n",
       "...                     ...       ...  \n",
       "25892                   0.0      True  \n",
       "25893                   0.0      True  \n",
       "25894                   0.0      True  \n",
       "25895                   0.0      True  \n",
       "25896                   0.0      True  \n",
       "\n",
       "[25897 rows x 11 columns]"
      ]
     },
     "execution_count": 7,
     "metadata": {},
     "output_type": "execute_result"
    }
   ],
   "source": [
    "df"
   ]
  },
  {
   "cell_type": "code",
   "execution_count": 8,
   "id": "531745b6",
   "metadata": {},
   "outputs": [],
   "source": [
    "X = df.loc[:, \"Age\":'Net Deposit Dec 2021']\n",
    "y = df['y_actual']"
   ]
  },
  {
   "cell_type": "code",
   "execution_count": 9,
   "id": "1c3de87d",
   "metadata": {},
   "outputs": [
    {
     "data": {
      "text/html": [
       "<div>\n",
       "<style scoped>\n",
       "    .dataframe tbody tr th:only-of-type {\n",
       "        vertical-align: middle;\n",
       "    }\n",
       "\n",
       "    .dataframe tbody tr th {\n",
       "        vertical-align: top;\n",
       "    }\n",
       "\n",
       "    .dataframe thead th {\n",
       "        text-align: right;\n",
       "    }\n",
       "</style>\n",
       "<table border=\"1\" class=\"dataframe\">\n",
       "  <thead>\n",
       "    <tr style=\"text-align: right;\">\n",
       "      <th></th>\n",
       "      <th>Age</th>\n",
       "      <th>Days_being_customer</th>\n",
       "      <th>Ratio_2w_to_week</th>\n",
       "      <th>Net Deposit Dec 2021</th>\n",
       "    </tr>\n",
       "  </thead>\n",
       "  <tbody>\n",
       "    <tr>\n",
       "      <th>0</th>\n",
       "      <td>36</td>\n",
       "      <td>401</td>\n",
       "      <td>0.000000</td>\n",
       "      <td>0.0</td>\n",
       "    </tr>\n",
       "    <tr>\n",
       "      <th>1</th>\n",
       "      <td>30</td>\n",
       "      <td>401</td>\n",
       "      <td>0.000000</td>\n",
       "      <td>0.0</td>\n",
       "    </tr>\n",
       "    <tr>\n",
       "      <th>2</th>\n",
       "      <td>23</td>\n",
       "      <td>395</td>\n",
       "      <td>0.153846</td>\n",
       "      <td>-26375.0</td>\n",
       "    </tr>\n",
       "    <tr>\n",
       "      <th>3</th>\n",
       "      <td>34</td>\n",
       "      <td>343</td>\n",
       "      <td>0.000000</td>\n",
       "      <td>0.0</td>\n",
       "    </tr>\n",
       "    <tr>\n",
       "      <th>4</th>\n",
       "      <td>39</td>\n",
       "      <td>177</td>\n",
       "      <td>0.000000</td>\n",
       "      <td>0.0</td>\n",
       "    </tr>\n",
       "  </tbody>\n",
       "</table>\n",
       "</div>"
      ],
      "text/plain": [
       "   Age  Days_being_customer  Ratio_2w_to_week  Net Deposit Dec 2021\n",
       "0   36                  401          0.000000                   0.0\n",
       "1   30                  401          0.000000                   0.0\n",
       "2   23                  395          0.153846              -26375.0\n",
       "3   34                  343          0.000000                   0.0\n",
       "4   39                  177          0.000000                   0.0"
      ]
     },
     "execution_count": 9,
     "metadata": {},
     "output_type": "execute_result"
    }
   ],
   "source": [
    "X.head()"
   ]
  },
  {
   "cell_type": "code",
   "execution_count": 10,
   "id": "143695bf",
   "metadata": {},
   "outputs": [
    {
     "data": {
      "text/plain": [
       "0     True\n",
       "1     True\n",
       "2    False\n",
       "3     True\n",
       "4     True\n",
       "Name: y_actual, dtype: bool"
      ]
     },
     "execution_count": 10,
     "metadata": {},
     "output_type": "execute_result"
    }
   ],
   "source": [
    "y.head()"
   ]
  },
  {
   "cell_type": "code",
   "execution_count": 11,
   "id": "d90eff42",
   "metadata": {},
   "outputs": [],
   "source": [
    "from sklearn.model_selection import train_test_split\n",
    "\n",
    "X_train, X_test, y_train, y_test = train_test_split(X, y, test_size=0.2, random_state=42)"
   ]
  },
  {
   "cell_type": "code",
   "execution_count": 12,
   "id": "ce5083e4",
   "metadata": {},
   "outputs": [
    {
     "data": {
      "text/plain": [
       "0.740696046724912"
      ]
     },
     "execution_count": 12,
     "metadata": {},
     "output_type": "execute_result"
    }
   ],
   "source": [
    "np.mean(y_train)"
   ]
  },
  {
   "cell_type": "markdown",
   "id": "6e40a5dc",
   "metadata": {},
   "source": [
    "help(RandomForestClassifier)"
   ]
  },
  {
   "cell_type": "code",
   "execution_count": 13,
   "id": "46c5fb35",
   "metadata": {},
   "outputs": [
    {
     "data": {
      "text/plain": [
       "RandomForestClassifier(max_depth=3)"
      ]
     },
     "execution_count": 13,
     "metadata": {},
     "output_type": "execute_result"
    }
   ],
   "source": [
    "from sklearn.ensemble import RandomForestClassifier\n",
    "model = RandomForestClassifier(n_estimators=100, max_depth = 3)\n",
    "model.fit(X_train, y_train)"
   ]
  },
  {
   "cell_type": "code",
   "execution_count": 14,
   "id": "181619c4",
   "metadata": {},
   "outputs": [
    {
     "data": {
      "text/plain": [
       "0.7801158301158301"
      ]
     },
     "execution_count": 14,
     "metadata": {},
     "output_type": "execute_result"
    }
   ],
   "source": [
    "model.score(X_test, y_test)"
   ]
  },
  {
   "cell_type": "code",
   "execution_count": 15,
   "id": "bae17169",
   "metadata": {},
   "outputs": [
    {
     "data": {
      "text/plain": [
       "0.7881450016894338"
      ]
     },
     "execution_count": 15,
     "metadata": {},
     "output_type": "execute_result"
    }
   ],
   "source": [
    "model.score(X_train, y_train)"
   ]
  },
  {
   "cell_type": "code",
   "execution_count": 16,
   "id": "75bb146c",
   "metadata": {},
   "outputs": [],
   "source": [
    "#help(RandomForestClassifier)"
   ]
  },
  {
   "cell_type": "code",
   "execution_count": 17,
   "id": "4174694e",
   "metadata": {},
   "outputs": [
    {
     "data": {
      "text/plain": [
       "array([[ 554,  813],\n",
       "       [ 326, 3487]])"
      ]
     },
     "execution_count": 17,
     "metadata": {},
     "output_type": "execute_result"
    }
   ],
   "source": [
    "cm_test = confusion_matrix(y_test, model.predict(X_test))\n",
    "cm_test"
   ]
  },
  {
   "cell_type": "code",
   "execution_count": 18,
   "id": "8f3fcd62",
   "metadata": {},
   "outputs": [
    {
     "data": {
      "text/plain": [
       "array([[ 2313,  3059],\n",
       "       [ 1330, 14015]])"
      ]
     },
     "execution_count": 18,
     "metadata": {},
     "output_type": "execute_result"
    }
   ],
   "source": [
    "cm_train = confusion_matrix(y_train, model.predict(X_train))\n",
    "cm_train"
   ]
  },
  {
   "cell_type": "code",
   "execution_count": 19,
   "id": "65fec52f",
   "metadata": {},
   "outputs": [
    {
     "data": {
      "text/plain": [
       "0.913326816552623"
      ]
     },
     "execution_count": 19,
     "metadata": {},
     "output_type": "execute_result"
    }
   ],
   "source": [
    "r_train = recall_score(y_train, model.predict(X_train))\n",
    "r_train"
   ]
  },
  {
   "cell_type": "code",
   "execution_count": 20,
   "id": "bf5da4cd",
   "metadata": {},
   "outputs": [
    {
     "data": {
      "text/plain": [
       "0.8208387021201827"
      ]
     },
     "execution_count": 20,
     "metadata": {},
     "output_type": "execute_result"
    }
   ],
   "source": [
    "p_train = precision_score(y_train, model.predict(X_train))\n",
    "p_train"
   ]
  },
  {
   "cell_type": "code",
   "execution_count": 21,
   "id": "841ea687",
   "metadata": {},
   "outputs": [
    {
     "data": {
      "text/plain": [
       "0.914503015997902"
      ]
     },
     "execution_count": 21,
     "metadata": {},
     "output_type": "execute_result"
    }
   ],
   "source": [
    "r_test = recall_score(y_test, model.predict(X_test))\n",
    "r_test"
   ]
  },
  {
   "cell_type": "code",
   "execution_count": 22,
   "id": "091ba051",
   "metadata": {},
   "outputs": [
    {
     "data": {
      "text/plain": [
       "0.8109302325581396"
      ]
     },
     "execution_count": 22,
     "metadata": {},
     "output_type": "execute_result"
    }
   ],
   "source": [
    "p_test = precision_score(y_test, model.predict(X_test))\n",
    "p_test"
   ]
  },
  {
   "cell_type": "code",
   "execution_count": 25,
   "id": "44080768",
   "metadata": {},
   "outputs": [
    {
     "name": "stderr",
     "output_type": "stream",
     "text": [
      "/Users/lisun/opt/anaconda3/envs/metis/lib/python3.9/site-packages/sklearn/utils/deprecation.py:87: FutureWarning: Function plot_confusion_matrix is deprecated; Function `plot_confusion_matrix` is deprecated in 1.0 and will be removed in 1.2. Use one of the class methods: ConfusionMatrixDisplay.from_predictions or ConfusionMatrixDisplay.from_estimator.\n",
      "  warnings.warn(msg, category=FutureWarning)\n"
     ]
    },
    {
     "data": {
      "text/plain": [
       "<sklearn.metrics._plot.confusion_matrix.ConfusionMatrixDisplay at 0x1643ec880>"
      ]
     },
     "execution_count": 25,
     "metadata": {},
     "output_type": "execute_result"
    },
    {
     "data": {
      "image/png": "[encoded data removed]",
      "text/plain": [
       "<Figure size 432x288 with 2 Axes>"
      ]
     },
     "metadata": {
      "needs_background": "light"
     },
     "output_type": "display_data"
    }
   ],
   "source": [
    "from sklearn.metrics import plot_confusion_matrix\n",
    "plot_confusion_matrix(model,\n",
    "                      X_train,\n",
    "                      y_train,\n",
    "                      values_format='d',\n",
    "                      display_labels = [\"Retained\", \"Churned\"])"
   ]
  },
  {
   "cell_type": "code",
   "execution_count": 28,
   "id": "36a34c2d",
   "metadata": {},
   "outputs": [
    {
     "name": "stderr",
     "output_type": "stream",
     "text": [
      "/Users/lisun/opt/anaconda3/envs/metis/lib/python3.9/site-packages/sklearn/utils/deprecation.py:87: FutureWarning: Function plot_confusion_matrix is deprecated; Function `plot_confusion_matrix` is deprecated in 1.0 and will be removed in 1.2. Use one of the class methods: ConfusionMatrixDisplay.from_predictions or ConfusionMatrixDisplay.from_estimator.\n",
      "  warnings.warn(msg, category=FutureWarning)\n"
     ]
    },
    {
     "data": {
      "text/plain": [
       "<sklearn.metrics._plot.confusion_matrix.ConfusionMatrixDisplay at 0x1650c97c0>"
      ]
     },
     "execution_count": 28,
     "metadata": {},
     "output_type": "execute_result"
    },
    {
     "data": {
      "image/png": "[encoded data removed]",
      "text/plain": [
       "<Figure size 432x288 with 2 Axes>"
      ]
     },
     "metadata": {
      "needs_background": "light"
     },
     "output_type": "display_data"
    }
   ],
   "source": [
    "plot_confusion_matrix(model,\n",
    "                      X_test,\n",
    "                      y_test,\n",
    "                      values_format='d',\n",
    "                      display_labels = [\"Retained\", \"Churned\"])"
   ]
  },
  {
   "cell_type": "code",
   "execution_count": 31,
   "id": "e8d22fb6",
   "metadata": {},
   "outputs": [
    {
     "name": "stdout",
     "output_type": "stream",
     "text": [
      "              precision    recall  f1-score   support\n",
      "\n",
      "       False       0.63      0.43      0.51      5372\n",
      "        True       0.82      0.91      0.86     15345\n",
      "\n",
      "    accuracy                           0.79     20717\n",
      "   macro avg       0.73      0.67      0.69     20717\n",
      "weighted avg       0.77      0.79      0.77     20717\n",
      "\n"
     ]
    }
   ],
   "source": [
    "print(classification_report(y_train, model.predict(X_train)))"
   ]
  },
  {
   "cell_type": "code",
   "execution_count": 32,
   "id": "b888c6e3",
   "metadata": {},
   "outputs": [
    {
     "name": "stdout",
     "output_type": "stream",
     "text": [
      "              precision    recall  f1-score   support\n",
      "\n",
      "       False       0.63      0.41      0.49      1367\n",
      "        True       0.81      0.91      0.86      3813\n",
      "\n",
      "    accuracy                           0.78      5180\n",
      "   macro avg       0.72      0.66      0.68      5180\n",
      "weighted avg       0.76      0.78      0.76      5180\n",
      "\n"
     ]
    }
   ],
   "source": [
    "print(classification_report(y_test, model.predict(X_test)))"
   ]
  },
  {
   "cell_type": "code",
   "execution_count": null,
   "id": "f9e7fa8d",
   "metadata": {},
   "outputs": [],
   "source": []
  }
 ],
 "metadata": {
  "kernelspec": {
   "display_name": "Python 3 (ipykernel)",
   "language": "python",
   "name": "python3"
  },
  "language_info": {
   "codemirror_mode": {
    "name": "ipython",
    "version": 3
   },
   "file_extension": ".py",
   "mimetype": "text/x-python",
   "name": "python",
   "nbconvert_exporter": "python",
   "pygments_lexer": "ipython3",
   "version": "3.9.7"
  }
 },
 "nbformat": 4,
 "nbformat_minor": 5
}
